{
 "cells": [
  {
   "cell_type": "markdown",
   "metadata": {},
   "source": [
    "# Introduction"
   ]
  },
  {
   "cell_type": "markdown",
   "metadata": {},
   "source": [
    "Considerable amount of microbial community samples are from understudied biomes which were more context-dependent and represent the development of gut microbiome. To prove the capability of EXPERT for distinguishing more detailed biomes, we used EXPERT to source track the succession of infant gut microbiome.\n",
    "\n",
    "The dataset was collected by Backhed et al.(accession number [ERP005989](https://www.ebi.ac.uk/ena/browser/view/PRJEB6456)), which contains fecal samples of 98 Swedish infants at birth, 4 months and 12 months after birth, and corresponding mothers during the first few days after delivery. Among all the infants, 83 were vaginally delivered, and 15 were born by cesarean section. Data are processed using metagenic shotgun sequencing.\n",
    "\n",
    "By cross-validation, we assessed the performance of different models. We performed proportional sampling cross-validation by randomly select 10% of the samples from mother, infants at birth, 4 monthes and 12 months of age as query, respectively. This process was repeated for five times. The model built from general model showed the best performance when source tracking the samples."
   ]
  },
  {
   "cell_type": "markdown",
   "metadata": {},
   "source": [
    "# Reproducibility statement"
   ]
  },
  {
   "cell_type": "markdown",
   "metadata": {},
   "source": [
    "- EXPERT supports completely reproducible optimization & inference.\n",
    "- Processed data are provided for reproducing the result, the original data can be found under `dataFiles/`.\n",
    "- Rerunning the entire notebook with the configuration below should yield **completely consistent** results (compared to those reported in our paper).\n",
    "- Session information\n",
    "    - EXPERT (version 0.3)\n",
    "    - Python (version 3.8.2)\n",
    "    - TensorFlow (version 2.3.1)\n",
    "    - Pandas (version 1.1.3)\n",
    "    - NumPy (version 1.18.5)\n",
    "    - ETE3 (version 3.1.2)\n",
    "    - NCBI taxonomy database (released [2020-09-01](https://ftp.ncbi.nlm.nih.gov/pub/taxonomy/taxdump_archive/))"
   ]
  },
  {
   "cell_type": "markdown",
   "metadata": {},
   "source": [
    "# Process\n",
    "The following sections are used to reproduce the cross-validation result of infant succession part, which reported in our paper. For detailed configuration and interpretation of results, please read our original paper first.\n",
    "\n",
    "All the files are in Infant-succession-/experiments/exp_5_source_tracking."
   ]
  },
  {
   "cell_type": "markdown",
   "metadata": {},
   "source": [
    "### Optimization\n",
    "- `--finetune`: enable finetune for further optimization.\n",
    "- `--update-statistics`: update statistics for Z-score standardization."
   ]
  },
  {
   "cell_type": "code",
   "execution_count": null,
   "metadata": {},
   "outputs": [],
   "source": [
    "%%bash\n",
    "for i in {0,1,2,3,4}; do\n",
    "    expert train -i experiments/exp_$i/SourceCM.h5 -t ontology.pkl \\\n",
    "    -l experiments/exp_$i/SourceLabels.h5 -o experiments/exp_$i/Independent;\n",
    "\n",
    "done;"
   ]
  },
  {
   "cell_type": "code",
   "execution_count": null,
   "metadata": {},
   "outputs": [],
   "source": [
    "%%bash\n",
    "for i in {0,1,2,3,4}; do \n",
    "expert transfer -i experiments/exp_$i/SourceCM.h5 -t ontology.pkl \\\n",
    "        -l experiments/exp_$i/SourceLabels.h5 -o experiments/exp_$i/Transfer_HM \\\n",
    "        -m ../Human-assessment/experiments/exp_1/Independent\n",
    "        --finetune --update-statistics;\n",
    "done;"
   ]
  },
  {
   "cell_type": "code",
   "execution_count": null,
   "metadata": {},
   "outputs": [],
   "source": [
    "%%bash\n",
    "for i in {0,1,2,3,4}; do    \n",
    "        expert transfer -i experiments/exp_$i/SourceCM.h5 -t ontology.pkl \\\n",
    "        -l experiments/exp_$i/SourceLabels.h5 -o experiments/exp_$i/Transfer_GM \\\n",
    "        --finetune --update-statistics;\n",
    "done;"
   ]
  },
  {
   "cell_type": "markdown",
   "metadata": {},
   "source": [
    "### Quantifying source contributions\n",
    "\n",
    "- `--measure-unknown`: measure the contribution from unknown source(s)."
   ]
  },
  {
   "cell_type": "code",
   "execution_count": null,
   "metadata": {
    "scrolled": true
   },
   "outputs": [],
   "source": [
    "%%bash\n",
    "for i in {0,1,2,3,4}; do\n",
    "    expert search -i experiments/exp_$i/QueryCM.h5 -m experiments/exp_$i/Independent \\\n",
    "    -o experiments/exp_$i/Search_Independent \\\n",
    "    --measure-unknown;\n",
    "done;"
   ]
  },
  {
   "cell_type": "code",
   "execution_count": null,
   "metadata": {},
   "outputs": [],
   "source": [
    "%%bash\n",
    "for i in {0,1,2,3,4}; do\n",
    "    expert search -i experiments/exp_$i/QueryCM.h5 -m experiments/exp_$i/Transfer_HM \\\n",
    "    -o experiments/exp_$i/Search_Transfer_HM \\\n",
    "    --measure-unknown;\n",
    "done;"
   ]
  },
  {
   "cell_type": "code",
   "execution_count": null,
   "metadata": {},
   "outputs": [],
   "source": [
    "%%bash\n",
    "for i in {0,1,2,3,4}; do\n",
    "    expert search -i experiments/exp_$i/QueryCM.h5 -m experiments/exp_$i/Transfer_GM \\\n",
    "    -o experiments/exp_$i/Search_Transfer_GM \\\n",
    "    --measure-unknown;\n",
    "done;"
   ]
  },
  {
   "cell_type": "markdown",
   "metadata": {},
   "source": [
    "### Evaluating performances\n",
    "- `-S`: Set threshold for evaluation"
   ]
  },
  {
   "cell_type": "code",
   "execution_count": null,
   "metadata": {},
   "outputs": [],
   "source": [
    "%%bash\n",
    "for i in {0,1,2,3,4}; do\n",
    "    expert evaluate -i experiments/exp_$i/Search_Independent -l experiments/exp_$i/QueryLabels.h5 \\\n",
    "    -o experiments/exp_$i/Eval_Independent -S 0;\n",
    "    \n",
    "done;"
   ]
  },
  {
   "cell_type": "code",
   "execution_count": null,
   "metadata": {},
   "outputs": [],
   "source": [
    "%%bash\n",
    "for i in {0,1,2,3,4}; do\n",
    "    expert evaluate -i experiments/exp_$i/Search_Transfer_HM -l experiments/exp_$i/QueryLabels.h5 \\\n",
    "    -o experiments/exp_$i/Eval_Transfer_HM -S 0;\n",
    "\n",
    "done;"
   ]
  },
  {
   "cell_type": "code",
   "execution_count": null,
   "metadata": {},
   "outputs": [],
   "source": [
    "%%bash\n",
    "for i in {0,1,2,3,4}; do\n",
    "    expert evaluate -i experiments/exp_$i/Search_Transfer_GM -l experiments/exp_$i/QueryLabels.h5 \\\n",
    "    -o experiments/exp_$i/Eval_Transfer_GM -S 0;\n",
    "\n",
    "done;"
   ]
  },
  {
   "cell_type": "markdown",
   "metadata": {},
   "source": [
    "## Support\n",
    "For support reproducing the result, please email: huichong.me@gmail.com."
   ]
  }
 ],
 "metadata": {
  "kernelspec": {
   "display_name": "Python 3",
   "language": "python",
   "name": "python3"
  },
  "language_info": {
   "codemirror_mode": {
    "name": "ipython",
    "version": 3
   },
   "file_extension": ".py",
   "mimetype": "text/x-python",
   "name": "python",
   "nbconvert_exporter": "python",
   "pygments_lexer": "ipython3",
   "version": "3.7.4"
  }
 },
 "nbformat": 4,
 "nbformat_minor": 4
}
