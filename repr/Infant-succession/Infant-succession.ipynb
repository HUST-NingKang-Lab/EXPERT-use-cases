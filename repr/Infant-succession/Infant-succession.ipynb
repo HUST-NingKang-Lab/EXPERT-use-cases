{
 "cells": [
  {
   "cell_type": "markdown",
   "metadata": {},
   "source": [
    "# Introduction"
   ]
  },
  {
   "cell_type": "markdown",
   "metadata": {},
   "source": [
    "Considerable amount of microbial community samples are from understudied biomes which were more context-dependent and represent the development of gut microbiome. To prove the capability of EXPERT for distinguishing more detailed biomes, we used EXPERT to source track the succession of infant gut microbiome.\n",
    "\n",
    "The dataset was collected by Backhed et al.(accession number [ERP005989](https://www.ebi.ac.uk/ena/browser/view/PRJEB6456)), which contains fecal samples of 98 Swedish infants at birth, 4 months and 12 months after birth, and corresponding mothers during the first few days after delivery. Among all the infants, 83 were vaginally delivered, and 15 were born by cesarean section. Data are processed using metagenic shotgun sequencing. In this part of the study, we considered samples from infants at 12 months of age as queries, and samples from early time points or mothers were treated as sources.\n",
    "\n",
    "In infant gut at 12 months of age from different delivery modes, maternal contribution is dominant and there is no significance difference."
   ]
  },
  {
   "cell_type": "markdown",
   "metadata": {},
   "source": [
    "# Reproducibility statement"
   ]
  },
  {
   "cell_type": "markdown",
   "metadata": {},
   "source": [
    "- EXPERT supports completely reproducible optimization & inference.\n",
    "- Processed data are provided for reproducing the result, the original data can be found under `dataFiles/`.\n",
    "- Rerunning the entire notebook with the configuration below should yield **completely consistent** results (compared to those reported in our paper).\n",
    "- Session information\n",
    "    - EXPERT (version 0.3)\n",
    "    - Python (version 3.8.2)\n",
    "    - TensorFlow (version 2.3.1)\n",
    "    - Pandas (version 1.1.3)\n",
    "    - NumPy (version 1.18.5)\n",
    "    - ETE3 (version 3.1.2)\n",
    "    - NCBI taxonomy database (released [2020-09-01](https://ftp.ncbi.nlm.nih.gov/pub/taxonomy/taxdump_archive/))"
   ]
  },
  {
   "cell_type": "markdown",
   "metadata": {},
   "source": [
    "# Process\n",
    "The following sections are used to reproduce the source tracking result of infant succession part, which reported in our paper. For detailed configuration and interpretation of results, please read our original paper first.\n",
    "\n",
    "All the files are in Infant-succession/experiments/exp_5_source_tracking."
   ]
  },
  {
   "cell_type": "markdown",
   "metadata": {},
   "source": [
    "### Optimization\n",
    "- `--finetune`: enable finetune for further optimization.\n",
    "- `--update-statistics`: update statistics for Z-score standardization."
   ]
  },
  {
   "cell_type": "code",
   "execution_count": null,
   "metadata": {},
   "outputs": [],
   "source": [
    "!expert train -i experiments/exp_5_source_tracking/countMatrix_source.h5 -t ontology.pkl -l experiments/exp_5_source_tracking/labels_source.h5 -o experiments/exp_5_source_tracking/Independent;"
   ]
  },
  {
   "cell_type": "code",
   "execution_count": null,
   "metadata": {},
   "outputs": [],
   "source": [
    "!expert transfer -i experiments/exp_5_source_tracking/countMatrix_source.h5 -t ontology.pkl \\\n",
    "        -l experiments/exp_5_source_tracking/labels_source.h5 -o experiments/exp_5_source_tracking/Transfer_HM \\\n",
    "        -m ../Human-assessment/experiments/exp_1/Independent \\\n",
    "        --finetune --update-statistics;"
   ]
  },
  {
   "cell_type": "code",
   "execution_count": null,
   "metadata": {},
   "outputs": [],
   "source": [
    "!expert transfer -i experiments/exp_5_source_tracking/countMatrix_source.h5 -t ontology.pkl \\\n",
    "        -l experiments/exp_5_source_tracking/labels_source.h5 -o experiments/exp_5_source_tracking/Transfer_GM \\\n",
    "        --finetune --update-statistics;"
   ]
  },
  {
   "cell_type": "markdown",
   "metadata": {},
   "source": [
    "### Quantifying source contributions\n",
    "\n",
    "- `--measure-unknown`: measure the contribution from unknown source(s)."
   ]
  },
  {
   "cell_type": "code",
   "execution_count": null,
   "metadata": {
    "scrolled": true
   },
   "outputs": [],
   "source": [
    "!expert search -i experiments/exp_5_source_tracking/countMatrix_query.h5 \\\n",
    "        -m experiments/exp_5_source_tracking/Independent -o experiments/exp_5_source_tracking/Search_Independent;\n"
   ]
  },
  {
   "cell_type": "code",
   "execution_count": null,
   "metadata": {},
   "outputs": [],
   "source": [
    "!expert search -i experiments/exp_5_source_tracking/countMatrix_query.h5 \\\n",
    "        -m experiments/exp_5_source_tracking/Transfer_HM -o experiments/exp_5_source_tracking/Search_Transfer_HM;"
   ]
  },
  {
   "cell_type": "code",
   "execution_count": null,
   "metadata": {},
   "outputs": [],
   "source": [
    "!expert search -i experiments/exp_5_source_tracking/countMatrix_query.h5 \\\n",
    "        -m experiments/exp_5_source_tracking/Transfer_GM -o experiments/exp_5_source_tracking/Search_Transfer_GM;"
   ]
  },
  {
   "cell_type": "markdown",
   "metadata": {},
   "source": [
    "## Support\n",
    "For support reproducing the result, please email: huichong.me@gmail.com."
   ]
  }
 ],
 "metadata": {
  "kernelspec": {
   "display_name": "Python 3",
   "language": "python",
   "name": "python3"
  },
  "language_info": {
   "codemirror_mode": {
    "name": "ipython",
    "version": 3
   },
   "file_extension": ".py",
   "mimetype": "text/x-python",
   "name": "python",
   "nbconvert_exporter": "python",
   "pygments_lexer": "ipython3",
   "version": "3.8.2"
  }
 },
 "nbformat": 4,
 "nbformat_minor": 4
}
